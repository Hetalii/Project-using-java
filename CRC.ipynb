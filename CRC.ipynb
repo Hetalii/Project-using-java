{
 "cells": [
  {
   "cell_type": "code",
   "execution_count": 1,
   "id": "e64d876a-01f1-4953-b649-e4827a78419e",
   "metadata": {},
   "outputs": [
    {
     "name": "stdout",
     "output_type": "stream",
     "text": [
      "Cyclic Redundancy Check (CRC) Algorithm\n",
      "========================================\n",
      "\n"
     ]
    },
    {
     "name": "stdin",
     "output_type": "stream",
     "text": [
      "Enter binary data:  10110011\n",
      "Enter binary generator polynomial:  1011\n"
     ]
    },
    {
     "name": "stdout",
     "output_type": "stream",
     "text": [
      "\n",
      "Original Data: 10110011\n",
      "Generator Polynomial: 1011\n",
      "Encoded Data (Data + CRC): 1011001111000\n",
      "\n",
      "Inject errors into the encoded data for testing:\n"
     ]
    },
    {
     "name": "stdin",
     "output_type": "stream",
     "text": [
      "Enter error positions as space-separated integers (e.g., 2 5):  2\n"
     ]
    },
    {
     "name": "stdout",
     "output_type": "stream",
     "text": [
      "Data with errors: 1001001111000\n",
      "\n",
      "Verification:\n",
      "Error detected!\n"
     ]
    },
    {
     "name": "stdin",
     "output_type": "stream",
     "text": [
      "\n",
      "Save results to a file? (yes/no):  no\n"
     ]
    }
   ],
   "source": [
    "def xor(a, b):\n",
    "    #Performs XOR operation between two binary strings.\n",
    "    # Ensure both strings are of the same length by padding the shorter one with zeros\n",
    "    length = max(len(a), len(b))\n",
    "    a = a.zfill(length)\n",
    "    b = b.zfill(length)\n",
    "    result = []\n",
    "    for i in range(length):\n",
    "        result.append('0' if a[i] == b[i] else '1')\n",
    "    return ''.join(result)\n",
    "\n",
    "def mod2div(dividend, divisor):\n",
    "    \"\"\"\n",
    "    Performs Modulo-2 Division.\n",
    "    :dividend: The binary data string to be divided.\n",
    "    :divisor: The binary divisor (polynomial).\n",
    "    :return: The remainder after Modulo-2 division.\n",
    "    \"\"\"\n",
    "    pick = len(divisor)\n",
    "    temp = dividend[:pick]\n",
    "\n",
    "    while pick < len(dividend):\n",
    "        if temp[0] == '1':\n",
    "            temp = xor(temp, divisor) + dividend[pick]\n",
    "        else:\n",
    "            temp = xor(temp, '0' * len(divisor)) + dividend[pick]\n",
    "        pick += 1\n",
    "\n",
    "    # Perform final XOR for the last segment\n",
    "    if temp[0] == '1':\n",
    "        temp = xor(temp, divisor)\n",
    "    else:\n",
    "        temp = xor(temp, '0' * len(divisor))\n",
    "\n",
    "    return temp.lstrip('0')  # Strip leading zeros\n",
    "\n",
    "def encode_data(data, generator):\n",
    "    #Encodes data by appending the CRC remainder.\n",
    "    appended_data = data + '0' * (len(generator) - 1)\n",
    "    remainder = mod2div(appended_data, generator)\n",
    "    return data + remainder\n",
    "\n",
    "def verify_data(received_data, generator):\n",
    "    #Verifies if the received data contains any errors using CRC.\n",
    "    remainder = mod2div(received_data, generator)\n",
    "    return '1' not in remainder\n",
    "\n",
    "def is_binary_string(s):\n",
    "    #Checks if the input string contains only binary characters (0 or 1).\n",
    "    return all(char in '01' for char in s)\n",
    "\n",
    "def inject_error(data, positions):\n",
    "   # Introduces errors at specified positions in the binary string.\n",
    "    \n",
    "    data = list(data)\n",
    "    for pos in positions:\n",
    "        if 0 <= pos < len(data):\n",
    "            data[pos] = '1' if data[pos] == '0' else '0'\n",
    "    return ''.join(data)\n",
    "\n",
    "if __name__ == \"__main__\":\n",
    "    print(\"Cyclic Redundancy Check (CRC) Algorithm\")\n",
    "    print(\"========================================\\n\")\n",
    "\n",
    "    # Interactive Input\n",
    "    data = input(\"Enter binary data: \")\n",
    "    generator = input(\"Enter binary generator polynomial: \")\n",
    "\n",
    "    # Validate inputs\n",
    "    if not is_binary_string(data) or not is_binary_string(generator):\n",
    "        print(\"Error: Both data and generator must be binary strings!\")\n",
    "        exit(1)\n",
    "\n",
    "    # Encode data\n",
    "    encoded_data = encode_data(data, generator)\n",
    "    print(f\"\\nOriginal Data: {data}\")\n",
    "    print(f\"Generator Polynomial: {generator}\")\n",
    "    print(f\"Encoded Data (Data + CRC): {encoded_data}\")\n",
    "\n",
    "    # Error injection\n",
    "    print(\"\\nInject errors into the encoded data for testing:\")\n",
    "    error_positions = input(\"Enter error positions as space-separated integers (e.g., 2 5): \")\n",
    "    if error_positions.strip():\n",
    "        error_positions = list(map(int, error_positions.split()))\n",
    "        received_data_with_error = inject_error(encoded_data, error_positions)\n",
    "        print(f\"Data with errors: {received_data_with_error}\")\n",
    "    else:\n",
    "        received_data_with_error = encoded_data\n",
    "\n",
    "    # Verification\n",
    "    print(\"\\nVerification:\")\n",
    "    if verify_data(received_data_with_error, generator):\n",
    "        print(\"No error detected!\")\n",
    "    else:\n",
    "        print(\"Error detected!\")\n",
    "\n",
    "    # File Handling (Optional)\n",
    "    save_to_file = input(\"\\nSave results to a file? (yes/no): \").strip().lower()\n",
    "    if save_to_file == 'yes':\n",
    "        filename = input(\"Enter filename (e.g., output.txt): \")\n",
    "        with open(filename, 'w') as file:\n",
    "            file.write(f\"Original Data: {data}\\n\")\n",
    "            file.write(f\"Generator Polynomial: {generator}\\n\")\n",
    "            file.write(f\"Encoded Data (Data + CRC): {encoded_data}\\n\")\n",
    "            file.write(f\"Received Data with Errors: {received_data_with_error}\\n\")\n",
    "            file.write(\"Verification Result: No error detected!\\n\" if verify_data(received_data_with_error, generator) else \"Verification Result: Error detected!\\n\")\n",
    "        print(f\"Results saved to {filename}\")"
   ]
  },
  {
   "cell_type": "code",
   "execution_count": null,
   "id": "e3ff1852-2ac8-49bd-8374-60c275c2f2ea",
   "metadata": {},
   "outputs": [],
   "source": []
  }
 ],
 "metadata": {
  "kernelspec": {
   "display_name": "Python 3 (ipykernel)",
   "language": "python",
   "name": "python3"
  },
  "language_info": {
   "codemirror_mode": {
    "name": "ipython",
    "version": 3
   },
   "file_extension": ".py",
   "mimetype": "text/x-python",
   "name": "python",
   "nbconvert_exporter": "python",
   "pygments_lexer": "ipython3",
   "version": "3.12.6"
  }
 },
 "nbformat": 4,
 "nbformat_minor": 5
}
